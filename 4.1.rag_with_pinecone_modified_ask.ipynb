{
 "cells": [
  {
   "cell_type": "markdown",
   "id": "7ad8dae0",
   "metadata": {},
   "source": [
    "# TODO"
   ]
  },
  {
   "cell_type": "markdown",
   "id": "64215de7",
   "metadata": {},
   "source": [
    "## 직장인->거주자 로 바꾸는 chain을 적용해보자"
   ]
  },
  {
   "cell_type": "markdown",
   "id": "9d17ace5",
   "metadata": {},
   "source": [
    "1. 문서의 내용을 읽는다.\n",
    "2. 문서를 쪼갠다.\n",
    " - 문서가 길면 토큰수 초과로 답변을 생성하지 못할 수 있다.\n",
    " - 문서가 길면 (인풋이 길면) 답변 생성에 시간이 너무 많이 소요된다.\n",
    " 3. 임베딩 -> 벡터 데이터베이스에 저장\n",
    " 4. 질문이 있을 때, 벡터 데이터베이스에 유사도 검색\n",
    " 5. 유사도 검색으로 가져온 문서를 LLM에 질문과 같이 전달"
   ]
  },
  {
   "cell_type": "code",
   "execution_count": 12,
   "id": "f6bf4bf4",
   "metadata": {},
   "outputs": [],
   "source": [
    "#%pip install --upgrade --quiet  docx2txt langchain-community"
   ]
  },
  {
   "cell_type": "markdown",
   "id": "d41195c1",
   "metadata": {},
   "source": [
    "## Pinecone VectorStore를 이용"
   ]
  },
  {
   "cell_type": "code",
   "execution_count": 1,
   "id": "6fd08c25",
   "metadata": {},
   "outputs": [
    {
     "name": "stdout",
     "output_type": "stream",
     "text": [
      "Note: you may need to restart the kernel to use updated packages.\n"
     ]
    }
   ],
   "source": [
    "%pip install -qU langchain langchain-pinecone langchain-openai"
   ]
  },
  {
   "cell_type": "code",
   "execution_count": null,
   "id": "289709d0",
   "metadata": {},
   "outputs": [],
   "source": []
  },
  {
   "cell_type": "markdown",
   "id": "ddc1ae7d",
   "metadata": {},
   "source": [
    "## Load and Split"
   ]
  },
  {
   "cell_type": "code",
   "execution_count": 2,
   "id": "d2dbb935",
   "metadata": {},
   "outputs": [],
   "source": [
    "from langchain_community.document_loaders import Docx2txtLoader\n",
    "from langchain_text_splitters import CharacterTextSplitter\n",
    "\n",
    "# text splitter는 보통 두개의 파라미터를 가짐. 1. 청크사이즈, 2. 청크오버랩\n",
    "text_splitter = CharacterTextSplitter(\n",
    "    chunk_size=1500,\n",
    "    chunk_overlap=200,\n",
    ")\n",
    "\n",
    "loader = Docx2txtLoader(\"tax-markdown.docx\")\n",
    "# document = loader.load()\n",
    "# document를 loader.load()대신 loader.load_and_split(text_splitter)으로 불러오면 청크사이즈와 청크오버랩을 고려해서 쪼개진 문서를 반환함.\n",
    "document_list = loader.load_and_split(text_splitter=text_splitter)"
   ]
  },
  {
   "cell_type": "code",
   "execution_count": 3,
   "id": "da67646d",
   "metadata": {},
   "outputs": [
    {
     "data": {
      "text/plain": [
       "182"
      ]
     },
     "execution_count": 3,
     "metadata": {},
     "output_type": "execute_result"
    }
   ],
   "source": [
    "len(document_list)"
   ]
  },
  {
   "cell_type": "code",
   "execution_count": null,
   "id": "86ca50b4",
   "metadata": {},
   "outputs": [
    {
     "name": "stdout",
     "output_type": "stream",
     "text": [
      "Note: you may need to restart the kernel to use updated packages.\n"
     ]
    }
   ],
   "source": [
    "# %pip install -qU langchain_text_splitters"
   ]
  },
  {
   "cell_type": "markdown",
   "id": "19cebeae",
   "metadata": {},
   "source": [
    "## Embedding"
   ]
  },
  {
   "cell_type": "code",
   "execution_count": 4,
   "id": "7aee165f",
   "metadata": {},
   "outputs": [],
   "source": [
    "from dotenv import load_dotenv\n",
    "from langchain_openai import OpenAIEmbeddings\n",
    "\n",
    "load_dotenv()\n",
    "embeddings = OpenAIEmbeddings(model = 'text-embedding-3-large')\n",
    "\n"
   ]
  },
  {
   "cell_type": "markdown",
   "id": "04d789dc",
   "metadata": {},
   "source": [
    "이제 우리가 임베딩 한 결과를 VectorDB에 넣어주어야함."
   ]
  },
  {
   "cell_type": "markdown",
   "id": "36eb028f",
   "metadata": {},
   "source": [
    "### pineconeDB를 이용"
   ]
  },
  {
   "cell_type": "code",
   "execution_count": 5,
   "id": "c0020119",
   "metadata": {},
   "outputs": [
    {
     "name": "stderr",
     "output_type": "stream",
     "text": [
      "/opt/miniconda3/envs/langchain_rag-env/lib/python3.11/site-packages/tqdm/auto.py:21: TqdmWarning: IProgress not found. Please update jupyter and ipywidgets. See https://ipywidgets.readthedocs.io/en/stable/user_install.html\n",
      "  from .autonotebook import tqdm as notebook_tqdm\n",
      "/opt/miniconda3/envs/langchain_rag-env/lib/python3.11/site-packages/langchain_pinecone/__init__.py:3: LangChainDeprecationWarning: As of langchain-core 0.3.0, LangChain uses pydantic v2 internally. The langchain_core.pydantic_v1 module was a compatibility shim for pydantic v1, and should no longer be used. Please update the code to import from Pydantic directly.\n",
      "\n",
      "For example, replace imports like: `from langchain_core.pydantic_v1 import BaseModel`\n",
      "with: `from pydantic import BaseModel`\n",
      "or the v1 compatibility namespace if you are working in a code base that has not been fully upgraded to pydantic 2 yet. \tfrom pydantic.v1 import BaseModel\n",
      "\n",
      "  from langchain_pinecone.vectorstores import Pinecone, PineconeVectorStore\n"
     ]
    }
   ],
   "source": [
    "import getpass\n",
    "import os\n",
    "\n",
    "from pinecone import Pinecone\n",
    "from langchain_pinecone import PineconeVectorStore\n",
    "\n",
    "if not os.getenv(\"PINECONE_API_KEY\"):\n",
    "    os.environ[\"PINECONE_API_KEY\"] = getpass.getpass(\"Enter your Pinecone API key: \")\n",
    "\n",
    "pinecone_api_key = os.environ.get(\"PINECONE_API_KEY\")\n",
    "\n",
    "pc = Pinecone(api_key=pinecone_api_key)\n",
    "\n",
    "index_name = 'tax-markdown-index'\n",
    "index = pc.Index(index_name)\n",
    "# database = PineconeVectorStore.from_documents(document_list, embeddings, index_name=index_name) #이거 공식문서에서 이제 빠짐.\n",
    "database = PineconeVectorStore( index=index, embedding=embeddings)\n",
    "\n"
   ]
  },
  {
   "cell_type": "code",
   "execution_count": 6,
   "id": "621ee72c",
   "metadata": {},
   "outputs": [
    {
     "data": {
      "text/plain": [
       "['d3696aac-6ee1-4362-a227-7d0385bb88c6',\n",
       " 'c60dca7d-dc5f-4329-8dc8-6c8ce3130ff1',\n",
       " '9fe3059e-40d5-4fd5-b070-f53196e061a0',\n",
       " '8e68c332-cd37-4990-9a26-8f22c0a81189',\n",
       " '6d19ea65-9aa0-44bd-8bbb-99800581db5c',\n",
       " 'b0b07503-f117-4817-80be-94af335da4f7',\n",
       " 'c9ff4b9c-781f-40cb-b693-030b38d5829c',\n",
       " 'b09aeb96-e8a8-4f64-9746-39f73e65fa51',\n",
       " '2bd4b047-8f93-440d-91e3-2acbf69162c1',\n",
       " '8a0ca6a7-478b-4df4-9eb9-d8fe6c91f110',\n",
       " '7bbe9d8b-ecb9-4759-8ae8-ef5f6de9a58c',\n",
       " '7a05819d-7d70-4453-b085-fea223434d95',\n",
       " '431ed341-d54a-4e91-b13f-1b25952280a3',\n",
       " 'ee836602-1623-473d-b126-d24787099512',\n",
       " '106bc014-68e0-4705-9c7a-15611f7a5df3',\n",
       " 'e34a3f96-dfa2-43e4-9ea6-1ab7a23d72ff',\n",
       " 'bf515ba0-f622-4e71-88ca-35e3b790c29f',\n",
       " '5d161734-e3ae-481f-8f31-0e28b81b4162',\n",
       " '38a176f5-3ebc-4e7f-83d1-c2b48d2399d2',\n",
       " 'bf05fa7f-c031-4bf4-83e5-ecf8b77a05c6',\n",
       " 'd2681ede-5ff0-43fc-8323-6355385ab27c',\n",
       " 'e1309588-b5d4-4cc9-8fba-83b5677f872a',\n",
       " 'cf1aaaa7-0962-448b-8f1f-5f757c923c64',\n",
       " '52aed6eb-6395-4631-a7fb-9eb798406ca0',\n",
       " 'aeff039e-bf92-42b9-94f9-a67f05ebc5b9',\n",
       " 'a607a7cc-923e-42b9-bc5c-d363916adcc1',\n",
       " '234c1a5d-5e05-446a-ac91-a6bbb9d8350d',\n",
       " '8743da6d-90e0-42c8-9881-6f3ee4cd60fe',\n",
       " '664a7c24-2872-4fb2-9918-c92367cabd78',\n",
       " 'dea7912a-e493-4fbe-8c38-1239a5a7ab2b',\n",
       " '43a87d49-9f46-4087-bc5c-fb046779e6d9',\n",
       " '895cb8f6-b0e8-4a1a-82d3-7361e750dba3',\n",
       " '1225b09f-77a7-4d76-9685-dbc54eae8324',\n",
       " 'a8f59947-7e1c-4158-b589-5a69304b60f4',\n",
       " '9b9c3109-d09d-4829-b4c0-8096d21769a3',\n",
       " 'ba6f2809-070c-47f3-aa0e-264fff6f3190',\n",
       " 'dfcb3d91-add7-4379-9ffe-a6379fdfbde7',\n",
       " 'fcf4a94e-69c9-4968-8fb8-199b704975c0',\n",
       " 'fae09d74-9cc5-4a03-89bf-d0d775d901aa',\n",
       " '25171f9a-1119-4eaa-aae5-f0bae6fa0226',\n",
       " '3bd7eaa8-6381-41b1-8f0f-d6befc621ac5',\n",
       " 'fc3e6a31-de2d-49e3-8ace-4b9db3510fe4',\n",
       " 'e7465864-58d7-4fe5-9e98-ab818f82dde6',\n",
       " 'af3be983-e5ba-4602-a24e-30842e191f8f',\n",
       " 'fd75a0de-5eb0-4708-99c9-3be33ae17504',\n",
       " 'ae474bdb-1943-4d8f-b7c9-fbbf86d60e09',\n",
       " '9c681e96-2c88-40be-aced-aec6a754ebb0',\n",
       " '72d7cc05-cffd-4d9d-a460-14ec62e6b077',\n",
       " '13d683cd-7277-4d0c-b863-67798534b097',\n",
       " 'e59f40c1-47bf-4225-8d8d-bb8624806167',\n",
       " 'b8f85242-33d0-49ac-bd03-9a34299efd34',\n",
       " '6a02731a-85aa-4167-a99a-5b338061fec4',\n",
       " '54cd7df3-7460-4639-8abc-40c6bf0ee0c5',\n",
       " 'e5bd0aa7-37d4-40f8-b05e-f5cd5d970b04',\n",
       " 'f2d309e1-49e9-4714-a0c3-acd37dca9a84',\n",
       " '75dd5fcf-eb1c-4b56-bf84-f4d2fbdc0106',\n",
       " '5a4ba25e-1965-48a2-8c6c-f8a2989262b5',\n",
       " '43b6b10d-92eb-4959-b78c-421f876e2580',\n",
       " 'b47e9f6e-4410-4ac5-92e4-c08101ad05b4',\n",
       " '08ff077e-b91f-476a-9d65-f548abb107f1',\n",
       " 'becf5738-1d8f-4005-8456-dcb22ab609ce',\n",
       " '0aa37d54-67a9-4b2e-92f2-59159c64a52f',\n",
       " '829c2361-59dc-4008-b17e-eb48f632c31e',\n",
       " 'c7b1a46f-2c3e-4123-8e52-5f77ebfb0be6',\n",
       " '1d04e9ea-4242-463e-ab78-b0e6ae1fe1e9',\n",
       " '2f09a881-7f83-49d9-b933-bb89105ffbc1',\n",
       " '04199207-4bce-4842-8b76-c9395ad8a0f5',\n",
       " '047590ea-27b7-4cdb-8c15-332f9bea2f6b',\n",
       " '4bf40e30-c5ea-45e4-a97f-563bf5561e42',\n",
       " '508a1f25-1533-4eaf-b535-94c95a48bb05',\n",
       " 'c5ff94bc-4870-4645-92d4-405dd91063cf',\n",
       " '6c803938-d181-4740-ad79-3ff2f4c2f8ab',\n",
       " '4e3c9417-fa0e-44a7-b297-351f3c068389',\n",
       " 'defd68a1-6380-42f9-9e46-2f2051c3d8d0',\n",
       " '724b31c8-ccd5-4a69-970a-9390dd11d358',\n",
       " 'ed38a9e4-9c7a-47d2-afe2-0228a99dd39a',\n",
       " '3c9ac4d8-c198-47c0-a575-da0146c86558',\n",
       " '753a9022-7ef7-47a9-8ad1-5e6168339755',\n",
       " '8e51b9ec-eced-4710-8ed4-61fcf6a52471',\n",
       " 'c32a580a-8319-4c9a-8b6c-20358332948f',\n",
       " '8dc9998c-02c2-43cc-8f89-30dd9815001d',\n",
       " 'aa0bc2eb-4b30-4fa6-9494-b9c430920854',\n",
       " '0e10a043-ec04-4d08-a9a9-ddbd21b929d8',\n",
       " '84c24443-f69d-4be1-83b8-c6d24539cef0',\n",
       " '3f236a56-8314-4b4e-afdd-5204b09dd7c1',\n",
       " 'c350ee65-8ccf-4e6b-bfdd-8a44270dae42',\n",
       " 'b364ba47-9cf5-4836-92f3-434cdd71f2a5',\n",
       " 'a698f9eb-9a3d-4be5-a448-ad66f8733280',\n",
       " '6ebf9606-a440-433b-a726-e12286953cca',\n",
       " '9e989e11-f424-4560-80f6-0e04f856eec7',\n",
       " 'ffb89f0e-47b3-4168-aadf-a490bb3d9e1c',\n",
       " '2141cc5b-42fa-4fd2-a577-05b67b9533f1',\n",
       " 'da7128e4-90b6-4003-bda9-0e12122df375',\n",
       " 'bff6aa82-fb55-46df-8952-8599d84ea2c7',\n",
       " 'a6d3eaf5-3cc2-475e-91b4-e18e7e7f8df5',\n",
       " '30cc68b0-01bc-41f8-8cc2-2ec4b9b36618',\n",
       " '5273d3e4-fb98-4f84-947a-33075fd449c6',\n",
       " 'dd1ac8b5-a1c8-4339-91bc-1180908f18d6',\n",
       " '53afd4e3-3938-4e63-b5b9-408d8e1197fe',\n",
       " 'f859ae7b-bea6-4fd8-830f-269b9f5dace8',\n",
       " 'a75025ed-3cd9-4428-97ec-9e4c94d4cb13',\n",
       " 'aa05a0a0-dffb-46cd-9ab8-adfa767f144b',\n",
       " 'b9518975-27c9-4b65-a28f-b76488b373de',\n",
       " '7e90223b-33ca-4857-9d28-f46fbc0cb00d',\n",
       " '9dd29551-62f7-433a-8795-a34667f2a89a',\n",
       " '85f46370-a1e7-4b5d-859e-e16cf58a7e87',\n",
       " '6e7f5ca9-0ad6-41c3-8f78-ae8b5350d290',\n",
       " '58e9f18f-f841-48e7-a5bd-64aa4540cff9',\n",
       " '946804c4-70ea-4813-9e21-ad2ef6a70fdc',\n",
       " 'ad6978fd-4b79-45be-9a9b-852493801caa',\n",
       " 'e82f355c-c129-4240-bfac-9b64153cdaeb',\n",
       " '6f27a964-a1cb-454e-afdf-00cf3b851149',\n",
       " '74f78ce1-5702-467c-b1b2-ec879d33b550',\n",
       " '0ad31aa2-3bd6-4fb4-89b3-f592856cb60c',\n",
       " '230a616d-7e2e-4b7c-9739-3a652acf62b2',\n",
       " 'b2b4e977-c8d0-4427-be78-8ddde5d8cc6f',\n",
       " '93a47a46-256b-4e25-9a18-c95cb288fdcc',\n",
       " 'b8a0823e-3ae6-4d31-96fb-45b1451fc04d',\n",
       " '3b5249e4-46de-4ff0-8e4d-7d28a8325037',\n",
       " 'ab93001a-67eb-46d9-8992-91dcf75af115',\n",
       " '864033a5-23f0-4320-bd82-dd1f73c65884',\n",
       " '08567a86-2982-4849-a6c8-6d564b2f764f',\n",
       " '651f1d05-c5da-4b38-9aa0-7bbe85891499',\n",
       " 'd21c57c0-333e-4682-ab5d-0d1d75af47de',\n",
       " '11fe6354-569c-4ec2-8de8-9fff3c39dd2b',\n",
       " '3f232ca3-a7e0-4e19-9c79-bc5909d2dd4f',\n",
       " '47fe5749-31d2-479c-93ed-0006b3fd642e',\n",
       " '99b200bc-1e53-4328-9094-c9beb6a81883',\n",
       " '2f34e206-4fca-4864-8f54-8e39a67c0337',\n",
       " 'bedecca8-6b92-442a-a545-28e5ac3c0895',\n",
       " 'a80601ea-26c4-4896-866f-3424a0939050',\n",
       " 'd707f7aa-da26-4c5a-9f8b-5ed4d15b5714',\n",
       " '9a7cf27a-1c44-465d-b31a-478218c60377',\n",
       " 'd229c8a2-da86-4f94-8b47-41318be151a1',\n",
       " '18b01bbf-2ab1-433c-9a4c-faea93540b8e',\n",
       " '269c9ece-0c51-4b1a-821c-182392bcbdc3',\n",
       " '475971ed-1cef-4bc4-903b-433c50bf7298',\n",
       " '1632e11b-6383-4813-aa9e-b5dbd58a1ee9',\n",
       " 'a653894a-1614-4670-9eaf-a94df117d943',\n",
       " '2eb67405-5ffa-4ece-bbf4-01d3689d54ed',\n",
       " '9a86b2f6-ba13-4907-aee1-306e0742403f',\n",
       " 'c631f924-5296-41ae-a6b1-7f0006d6e8a4',\n",
       " '88578af1-2e19-49e8-849c-c88fa4209134',\n",
       " 'ba74a1c3-7cd2-4813-b847-3698d3112fd1',\n",
       " 'a83338e3-9f8c-4e52-a5ed-4facedc79042',\n",
       " 'a98f46c6-ff86-4e75-8854-d5e4e552ddb0',\n",
       " 'cc4e2fda-42d5-4e6c-a955-e80b6a928513',\n",
       " 'dcb7a91f-2ffd-49ba-a739-1a926040783d',\n",
       " '5c5ce5d3-9cd1-4b23-9eaf-eb570d6dc073',\n",
       " 'b7608d89-d236-4b99-8e78-882a1fd1b084',\n",
       " '446d7fd1-23f1-4945-9003-3d555545a71f',\n",
       " 'a9439c38-615b-4f20-a130-c45148d8c890',\n",
       " '6dba64a8-3f7b-4dfe-a98b-b4e23750ab96',\n",
       " '7538786b-1689-4360-b60e-0796b21ed099',\n",
       " '16ceef11-d6d0-46c8-8094-c3dbece956f8',\n",
       " 'deb7eb26-103c-4541-898a-eac129420e03',\n",
       " 'b0965904-1a13-402b-a93c-bb532a6fd784',\n",
       " '48a25fba-e5ec-4eb0-9244-f80cc5d1c171',\n",
       " '4bbe5c02-da9b-47a2-969f-3dbd261566a0',\n",
       " '4cf4961f-1b6b-4e22-b4af-a8d82a4831b7',\n",
       " '4d0efde7-79ac-474b-8946-cebfae9a6bec',\n",
       " '57138927-cbb1-48c5-b6c6-ee234c882c02',\n",
       " 'eebf8733-f434-441d-862c-0bba115b8ca2',\n",
       " '40489657-803b-4fa2-9c95-a6f1270a8f04',\n",
       " '8c77d381-4bc3-464d-beaa-72de85fb7d86',\n",
       " 'd9195b11-fc54-426f-8cb2-caf079afe8d2',\n",
       " '9f1c07c7-73dd-4c3d-85c3-c78dca0c36e5',\n",
       " 'fe7fd22b-1081-4c1e-ac2d-5eaf938e579e',\n",
       " '4294245b-e0b2-48bd-b752-69f1f5eb2c9f',\n",
       " '617bfaa3-553f-4ef1-b475-2bd63e4f5359',\n",
       " 'e928ee33-00f5-4da3-bf07-39cf915229b0',\n",
       " '90efb187-3f7a-4500-aec7-fa36e6cfa884',\n",
       " '927748b9-7739-4988-aba8-f7b12bb56daa',\n",
       " '853b3a86-7ec2-4d90-b7a5-0b6f8bd0d308',\n",
       " '75b7a992-1031-4f66-b088-28acc3ffcd36',\n",
       " '9b490075-3ac9-4602-b627-d676e5dfb13a',\n",
       " '9051b18f-3e58-48f3-b119-38896760ed68',\n",
       " 'a292a35c-c772-4644-a6db-a1b859262acc',\n",
       " '798a3267-3eef-42be-bf80-20ac977d5dc5',\n",
       " '21a3f661-851e-4f4c-b7b9-5a090f39e33f',\n",
       " '111feb6a-617c-4b63-aa3b-41260456f766',\n",
       " '48156a67-a254-4517-878f-8c56e6a3d846']"
      ]
     },
     "execution_count": 6,
     "metadata": {},
     "output_type": "execute_result"
    }
   ],
   "source": [
    "# 이제 add_documents함수를 이용해 문서를 추가할 수 있음.\n",
    "database.add_documents(documents=document_list)"
   ]
  },
  {
   "cell_type": "markdown",
   "id": "fe2dd4ea",
   "metadata": {},
   "source": [
    "질문던지기"
   ]
  },
  {
   "cell_type": "code",
   "execution_count": 7,
   "id": "32227146",
   "metadata": {},
   "outputs": [],
   "source": [
    "query = \"연봉 5000만원의 직장인은 소득세가 얼마인가요?\"\n",
    "# 이건 실무 잡이야기이긴 한데, 존댓말로 물어보면 답변을 더 잘해준다고 합니다. 영어질문은 Please 붙여서 하면 더 답변이 잘나온다는 이야기가 있습니다.\n",
    "retrieved_docs = database.similarity_search(query, k=5) # similarity_search의 디폴트 값이 4이므로 k값 설정을 안해두면 4개의 문서를 반환할 것임."
   ]
  },
  {
   "cell_type": "code",
   "execution_count": 8,
   "id": "5628719f",
   "metadata": {},
   "outputs": [
    {
     "data": {
      "text/plain": [
       "Document(metadata={'source': 'tax-markdown.docx', 'text': '가. 종교단체에 기부한 금액이 있는 경우\\n\\n\\u3000\\u3000한도액 = [종합소득금액(제62조에 따른 원천징수세율을 적용받는 이자소득 및 배당소득은 제외한다)에서 제1호에 따른 기부금을 뺀 금액을 말하며, 이하 이 항에서 “소득금액”이라 한다] × 100분의 10 + [소득금액의 100분의 20과 종교단체 외에 기부한 금액 중 적은 금액]\\n\\n나. 가목 외의 경우\\n\\n\\u3000\\u3000한도액 = 소득금액의 100분의 30\\n\\n⑤ 제1항부터 제3항까지의 규정을 적용할 때 과세기간 종료일 이전에 혼인ㆍ이혼ㆍ별거ㆍ취업 등의 사유로 기본공제대상자에 해당되지 아니하게 되는 종전의 배우자ㆍ부양가족ㆍ장애인 또는 과세기간 종료일 현재 65세 이상인 사람을 위하여 이미 지급한 금액이 있는 경우에는 그 사유가 발생한 날까지 지급한 금액에 제1항부터 제3항까지의 규정에 따른 율을 적용한 금액을 해당 과세기간의 종합소득산출세액에서 공제한다.\\n\\n⑥ 제1항부터 제4항까지의 규정에 따른 공제는 해당 거주자가 대통령령으로 정하는 바에 따라 신청한 경우에 적용한다.\\n\\n⑦ 국세청장은 제3항제2호라목에 따른 교육비가 세액공제 대상에 해당하는지 여부를 확인하기 위하여 「한국장학재단 설립 등에 관한 법률」 제6조에 따른 한국장학재단 등 학자금 대출ㆍ상환업무를 수행하는 대통령령으로 정하는 기관(이하 이 항에서 “한국장학재단등”이라 한다)에 학자금대출 및 원리금 상환내역 등 대통령령으로 정하는 자료의 제공을 요청할 수 있다. 이 경우 요청을 받은 한국장학재단등은 특별한 사유가 없으면 그 요청에 따라야 한다.<신설 2016. 12. 20.>\\n\\n⑧ 제4항에도 불구하고 2024년 1월 1일부터 2024년 12월 31일까지 지급한 기부금을 해당 과세기간의 합산과세되는 종합소득산출세액(필요경비에 산입한 기부금이 있는 경우 사업소득에 대한 산출세액은 제외한다)에서 공제하는 경우에는 같은 항에 따른 세액공제액 외에 같은 항 각 호의 기부금을 합한 금액에서 사업소득금액을 계산할 때 필요경비에 산입한 기부금을 뺀 금액이 3천만원을 초과하는 경우 그 초과분에 대해서는 100분의 10에 해당하는 금액을 추가로 공제한다.<신설 2021. 12. 8., 2022. 12. 31., 2023. 12. 31.>\\n\\n⑨ 거주자가 다음 각 호의 어느 하나에 해당하는 경우 다음 각 호의 구분에 따른 금액을 종합소득산출세액에서 공제(이하 “표준세액공제”라 한다)한다.<개정 2020. 12. 29.>\\n\\n1. 근로소득이 있는 거주자로서 제6항, 제52조제8항 및 「조세특례제한법」 제95조의2제2항에 따른 소득공제나 세액공제 신청을 하지 아니한 경우: 연 13만원\\n\\n2. 종합소득이 있는 거주자(근로소득이 있는 자는 제외한다)로서 「조세특례제한법」 제122조의3에 따른 세액공제 신청을 하지 아니한 경우: 다음 각 목의 구분에 따른 금액\\n\\n가. 제160조의5제3항에 따른 사업용계좌의 신고 등 대통령령으로 정하는 요건에 해당하는 사업자(이하 “성실사업자”라 한다)의 경우: 연 12만원\\n\\n나. 가목 외의 경우: 연 7만원'}, page_content='가. 종교단체에 기부한 금액이 있는 경우\\n\\n\\u3000\\u3000한도액 = [종합소득금액(제62조에 따른 원천징수세율을 적용받는 이자소득 및 배당소득은 제외한다)에서 제1호에 따른 기부금을 뺀 금액을 말하며, 이하 이 항에서 “소득금액”이라 한다] × 100분의 10 + [소득금액의 100분의 20과 종교단체 외에 기부한 금액 중 적은 금액]\\n\\n나. 가목 외의 경우\\n\\n\\u3000\\u3000한도액 = 소득금액의 100분의 30\\n\\n⑤ 제1항부터 제3항까지의 규정을 적용할 때 과세기간 종료일 이전에 혼인ㆍ이혼ㆍ별거ㆍ취업 등의 사유로 기본공제대상자에 해당되지 아니하게 되는 종전의 배우자ㆍ부양가족ㆍ장애인 또는 과세기간 종료일 현재 65세 이상인 사람을 위하여 이미 지급한 금액이 있는 경우에는 그 사유가 발생한 날까지 지급한 금액에 제1항부터 제3항까지의 규정에 따른 율을 적용한 금액을 해당 과세기간의 종합소득산출세액에서 공제한다.\\n\\n⑥ 제1항부터 제4항까지의 규정에 따른 공제는 해당 거주자가 대통령령으로 정하는 바에 따라 신청한 경우에 적용한다.\\n\\n⑦ 국세청장은 제3항제2호라목에 따른 교육비가 세액공제 대상에 해당하는지 여부를 확인하기 위하여 「한국장학재단 설립 등에 관한 법률」 제6조에 따른 한국장학재단 등 학자금 대출ㆍ상환업무를 수행하는 대통령령으로 정하는 기관(이하 이 항에서 “한국장학재단등”이라 한다)에 학자금대출 및 원리금 상환내역 등 대통령령으로 정하는 자료의 제공을 요청할 수 있다. 이 경우 요청을 받은 한국장학재단등은 특별한 사유가 없으면 그 요청에 따라야 한다.<신설 2016. 12. 20.>\\n\\n⑧ 제4항에도 불구하고 2024년 1월 1일부터 2024년 12월 31일까지 지급한 기부금을 해당 과세기간의 합산과세되는 종합소득산출세액(필요경비에 산입한 기부금이 있는 경우 사업소득에 대한 산출세액은 제외한다)에서 공제하는 경우에는 같은 항에 따른 세액공제액 외에 같은 항 각 호의 기부금을 합한 금액에서 사업소득금액을 계산할 때 필요경비에 산입한 기부금을 뺀 금액이 3천만원을 초과하는 경우 그 초과분에 대해서는 100분의 10에 해당하는 금액을 추가로 공제한다.<신설 2021. 12. 8., 2022. 12. 31., 2023. 12. 31.>\\n\\n⑨ 거주자가 다음 각 호의 어느 하나에 해당하는 경우 다음 각 호의 구분에 따른 금액을 종합소득산출세액에서 공제(이하 “표준세액공제”라 한다)한다.<개정 2020. 12. 29.>\\n\\n1. 근로소득이 있는 거주자로서 제6항, 제52조제8항 및 「조세특례제한법」 제95조의2제2항에 따른 소득공제나 세액공제 신청을 하지 아니한 경우: 연 13만원\\n\\n2. 종합소득이 있는 거주자(근로소득이 있는 자는 제외한다)로서 「조세특례제한법」 제122조의3에 따른 세액공제 신청을 하지 아니한 경우: 다음 각 목의 구분에 따른 금액\\n\\n가. 제160조의5제3항에 따른 사업용계좌의 신고 등 대통령령으로 정하는 요건에 해당하는 사업자(이하 “성실사업자”라 한다)의 경우: 연 12만원\\n\\n나. 가목 외의 경우: 연 7만원')"
      ]
     },
     "execution_count": 8,
     "metadata": {},
     "output_type": "execute_result"
    }
   ],
   "source": [
    "document_list[52]"
   ]
  },
  {
   "cell_type": "code",
   "execution_count": 9,
   "id": "c8520de8",
   "metadata": {},
   "outputs": [
    {
     "data": {
      "text/plain": [
       "[Document(id='2378e94f-cc58-467a-be98-999730428de4', metadata={'source': 'tax-markdown.docx'}, page_content='[전문개정 2009. 12. 31.]\\n\\n제10조(납세지의 변경신고) 거주자나 비거주자는 제6조부터 제9조까지의 규정에 따른 납세지가 변경된 경우 변경된 날부터 15일 이내에 대통령령으로 정하는 바에 따라 그 변경 후의 납세지 관할 세무서장에게 신고하여야 한다.\\n\\n[전문개정 2009. 12. 31.]\\n\\n제11조(과세 관할) 소득세는 제6조부터 제10조까지의 규정에 따른 납세지를 관할하는 세무서장 또는 지방국세청장이 과세한다.\\n\\n[전문개정 2009. 12. 31.]\\n\\n제2장 거주자의 종합소득 및 퇴직소득에 대한 납세의무 <개정 2009. 12. 31.>\\n\\n제1절 비과세 <개정 2009. 12. 31.>\\n\\n제12조(비과세소득) 다음 각 호의 소득에 대해서는 소득세를 과세하지 아니한다. <개정 2010. 12. 27., 2011. 7. 25., 2011. 9. 15., 2012. 2. 1., 2013. 1. 1., 2013. 3. 22., 2014. 1. 1., 2014. 3. 18., 2014. 12. 23., 2015. 12. 15., 2016. 12. 20., 2018. 3. 20., 2018. 12. 31., 2019. 12. 10., 2019. 12. 31., 2020. 6. 9., 2020. 12. 29., 2022. 8. 12., 2022. 12. 31., 2023. 8. 8., 2023. 12. 31., 2024. 12. 31.>\\n\\n1. 「공익신탁법」에 따른 공익신탁의 이익\\n\\n2. 사업소득 중 다음 각 목의 어느 하나에 해당하는 소득\\n\\n가. 논ㆍ밭을 작물 생산에 이용하게 함으로써 발생하는 소득\\n\\n나. 1개의 주택을 소유하는 자의 주택임대소득(제99조에 따른 기준시가가 12억원을 초과하는 주택 및 국외에 소재하는 주택의 임대소득은 제외한다) 또는 해당 과세기간에 대통령령으로 정하는 총수입금액의 합계액이 2천만원 이하인 자의 주택임대소득(2018년 12월 31일 이전에 끝나는 과세기간까지 발생하는 소득으로 한정한다). 이 경우 주택 수의 계산 및 주택임대소득의 산정 등 필요한 사항은 대통령령으로 정한다.\\n\\n다. 대통령령으로 정하는 농어가부업소득\\n\\n라. 대통령령으로 정하는 전통주의 제조에서 발생하는 소득\\n\\n마. 조림기간 5년 이상인 임지(林地)의 임목(林木)의 벌채 또는 양도로 발생하는 소득으로서 연 600만원 이하의 금액. 이 경우 조림기간 및 세액의 계산 등 필요한 사항은 대통령령으로 정한다.\\n\\n바. 대통령령으로 정하는 작물재배업에서 발생하는 소득\\n\\n사. 대통령령으로 정하는 어로어업 또는 양식어업에서 발생하는 소득\\n\\n3. 근로소득과 퇴직소득 중 다음 각 목의 어느 하나에 해당하는 소득\\n\\n가. 대통령령으로 정하는 복무 중인 병(兵)이 받는 급여\\n\\n나. 법률에 따라 동원된 사람이 그 동원 직장에서 받는 급여'),\n",
       " Document(id='031880c9-ea4e-4921-9ee4-0206502fb04f', metadata={'source': 'tax-markdown.docx'}, page_content='제55조(세율) ①거주자의 종합소득에 대한 소득세는 해당 연도의 종합소득과세표준에 다음의 세율을 적용하여 계산한 금액(이하 “종합소득산출세액”이라 한다)을 그 세액으로 한다. <개정 2014. 1. 1., 2016. 12. 20., 2017. 12. 19., 2020. 12. 29., 2022. 12. 31.>\\n\\n# 종합소득 과세표준 및 세율\\n\\n| 종합소득 과세표준       | 세율 및 산출세액 계산 방식 |\\n\\n|--------------------------|---------------------------|\\n\\n| **1,400만원 이하**       | 과세표준 × 6% |\\n\\n| **1,400만원 초과 ~ 5,000만원 이하** | 84만원 + (1,400만원 초과분 × 15%) |\\n\\n| **5,000만원 초과 ~ 8,800만원 이하** | 624만원 + (5,000만원 초과분 × 24%) |\\n\\n| **8,800만원 초과 ~ 1억5천만원 이하** | 1,536만원 + (8,800만원 초과분 × 35%) |\\n\\n| **1억5천만원 초과 ~ 3억원 이하** | 3,706만원 + (1억5천만원 초과분 × 38%) |\\n\\n| **3억원 초과 ~ 5억원 이하** | 9,406만원 + (3억원 초과분 × 40%) |\\n\\n| **5억원 초과 ~ 10억원 이하** | 1억7,406만원 + (5억원 초과분 × 42%) |\\n\\n| **10억원 초과** | 3억8,406만원 + (10억원 초과분 × 45%) |\\n\\n② 거주자의 퇴직소득에 대한 소득세는 다음 각 호의 순서에 따라 계산한 금액(이하 “퇴직소득 산출세액”이라 한다)으로 한다.<개정 2013. 1. 1., 2014. 12. 23.>\\n\\n1. 해당 과세기간의 퇴직소득과세표준에 제1항의 세율을 적용하여 계산한 금액\\n\\n2. 제1호의 금액을 12로 나눈 금액에 근속연수를 곱한 금액\\n\\n3. 삭제<2014. 12. 23.>\\n\\n[전문개정 2009. 12. 31.]\\n\\n제2관 세액공제 <개정 2009. 12. 31.>\\n\\n제56조(배당세액공제) ① 거주자의 종합소득금액에 제17조제3항 각 호 외의 부분 단서가 적용되는 배당소득금액이 합산되어 있는 경우에는 같은 항 각 호 외의 부분 단서에 따라 해당 과세기간의 총수입금액에 더한 금액에 해당하는 금액을 종합소득 산출세액에서 공제한다. <개정 2009. 12. 31.>\\n\\n② 제1항에 따른 공제를 “배당세액공제”라 한다.<개정 2009. 12. 31.>\\n\\n③ 삭제<2003. 12. 30.>\\n\\n④ 제1항을 적용할 때 배당세액공제의 대상이 되는 배당소득금액은 제14조제2항의 종합소득과세표준에 포함된 배당소득금액으로서 이자소득등의 종합과세기준금액을 초과하는 것으로 한다.<개정 2009. 12. 31.>\\n\\n⑤ 삭제<2006. 12. 30.>\\n\\n⑥ 배당세액공제액의 계산 등에 필요한 사항은 대통령령으로 정한다.<개정 2009. 12. 31.>\\n\\n[제목개정 2009. 12. 31.]'),\n",
       " Document(id='97eeb0f7-8780-46f0-b02e-bd72bd81ad59', metadata={'source': 'tax-markdown.docx'}, page_content='소득세법\\n\\n소득세법\\n\\n[시행 2025. 7. 1.] [법률 제20615호, 2024. 12. 31., 일부개정]\\n\\n기획재정부(재산세제과(양도소득세)) 044-215-4312\\n\\n기획재정부(소득세제과(근로소득)) 044-215-4216\\n\\n기획재정부(금융세제과(이자소득, 배당소득)) 044-215-4233\\n\\n기획재정부(소득세제과(사업소득, 기타소득)) 044-215-4217\\n\\n제1장 총칙 <개정 2009. 12. 31.>\\n\\n제1조(목적) 이 법은 개인의 소득에 대하여 소득의 성격과 납세자의 부담능력 등에 따라 적정하게 과세함으로써 조세부담의 형평을 도모하고 재정수입의 원활한 조달에 이바지함을 목적으로 한다.\\n\\n[본조신설 2009. 12. 31.]\\n\\n[종전 제1조는 제2조로 이동 <2009. 12. 31.>]\\n\\n제1조의2(정의) ① 이 법에서 사용하는 용어의 뜻은 다음과 같다. <개정 2010. 12. 27., 2014. 12. 23., 2018. 12. 31.>\\n\\n1. “거주자”란 국내에 주소를 두거나 183일 이상의 거소(居所)를 둔 개인을 말한다.\\n\\n2. “비거주자”란 거주자가 아닌 개인을 말한다.\\n\\n3. “내국법인”이란 「법인세법」 제2조제1호에 따른 내국법인을 말한다.\\n\\n4. “외국법인”이란 「법인세법」 제2조제3호에 따른 외국법인을 말한다.\\n\\n5. “사업자”란 사업소득이 있는 거주자를 말한다.\\n\\n② 제1항에 따른 주소ㆍ거소와 거주자ㆍ비거주자의 구분은 대통령령으로 정한다.\\n\\n[본조신설 2009. 12. 31.]\\n\\n제2조(납세의무) ① 다음 각 호의 어느 하나에 해당하는 개인은 이 법에 따라 각자의 소득에 대한 소득세를 납부할 의무를 진다.\\n\\n1. 거주자\\n\\n2. 비거주자로서 국내원천소득(國內源泉所得)이 있는 개인\\n\\n② 다음 각 호의 어느 하나에 해당하는 자는 이 법에 따라 원천징수한 소득세를 납부할 의무를 진다.\\n\\n1. 거주자\\n\\n2. 비거주자\\n\\n3. 내국법인\\n\\n4. 외국법인의 국내지점 또는 국내영업소(출장소, 그 밖에 이에 준하는 것을 포함한다. 이하 같다)\\n\\n5. 그 밖에 이 법에서 정하는 원천징수의무자\\n\\n③ 「국세기본법」 제13조제1항에 따른 법인 아닌 단체 중 같은 조 제4항에 따른 법인으로 보는 단체(이하 “법인으로 보는 단체”라 한다) 외의 법인 아닌 단체는 국내에 주사무소 또는 사업의 실질적 관리장소를 둔 경우에는 1거주자로, 그 밖의 경우에는 1비거주자로 보아 이 법을 적용한다. 다만, 다음 각 호의 어느 하나에 해당하는 경우에는 소득구분에 따라 해당 단체의 각 구성원별로 이 법 또는 「법인세법」에 따라 소득에 대한 소득세 또는 법인세[해당 구성원이 「법인세법」에 따른 법인(법인으로 보는 단체를 포함한다)인 경우로 한정한다. 이하 이 조에서 같다]를 납부할 의무를 진다.<개정 2010. 12. 27., 2013. 1. 1., 2018. 12. 31.>\\n\\n1. 구성원 간 이익의 분배비율이 정하여져 있고 해당 구성원별로 이익의 분배비율이 확인되는 경우'),\n",
       " Document(id='c7459ed4-2f89-4641-aa68-3f2b83319c68', metadata={'source': 'tax-markdown.docx'}, page_content='바. 「문화유산의 보존 및 활용에 관한 법률」에 따라 국가지정문화유산으로 지정된 서화ㆍ골동품의 양도로 발생하는 소득\\n\\n사. 서화ㆍ골동품을 박물관 또는 미술관에 양도함으로써 발생하는 소득\\n\\n아. 제21조제1항제26호에 따른 종교인소득 중 다음의 어느 하나에 해당하는 소득\\n\\n\\u3000\\u3000\\u3000\\u30001) 「통계법」 제22조에 따라 통계청장이 고시하는 한국표준직업분류에 따른 종교관련종사자(이하 “종교관련종사자”라 한다)가 받는 대통령령으로 정하는 학자금\\n\\n\\u3000\\u3000\\u3000\\u30002) 종교관련종사자가 받는 대통령령으로 정하는 식사 또는 식사대\\n\\n\\u3000\\u3000\\u3000\\u30003) 종교관련종사자가 받는 대통령령으로 정하는 실비변상적 성질의 지급액\\n\\n\\u3000\\u3000\\u3000\\u30004) 종교관련종사자 또는 그 배우자의 출산이나 6세 이하(해당 과세기간 개시일을 기준으로 판단한다) 자녀의 보육과 관련하여 종교단체로부터 받는 금액으로서 월 20만원 이내의 금액\\n\\n\\u3000\\u3000\\u3000\\u30005) 종교관련종사자가 기획재정부령으로 정하는 사택을 제공받아 얻는 이익\\n\\n자. 법령ㆍ조례에 따른 위원회 등의 보수를 받지 아니하는 위원(학술원 및 예술원의 회원을 포함한다) 등이 받는 수당\\n\\n[전문개정 2009. 12. 31.]\\n\\n제13조 삭제 <2009. 12. 31.>\\n\\n제2절 과세표준과 세액의 계산 <개정 2009. 12. 31.>\\n\\n제1관 세액계산 통칙 <개정 2009. 12. 31.>\\n\\n제14조(과세표준의 계산) ① 거주자의 종합소득 및 퇴직소득에 대한 과세표준은 각각 구분하여 계산한다.\\n\\n② 종합소득에 대한 과세표준(이하 “종합소득과세표준”이라 한다)은 제16조, 제17조, 제19조, 제20조, 제20조의3, 제21조, 제24조부터 제26조까지, 제27조부터 제29조까지, 제31조부터 제35조까지, 제37조, 제39조, 제41조부터 제46조까지, 제46조의2, 제47조 및 제47조의2에 따라 계산한 이자소득금액, 배당소득금액, 사업소득금액, 근로소득금액, 연금소득금액 및 기타소득금액의 합계액(이하 “종합소득금액”이라 한다)에서 제50조, 제51조, 제51조의3, 제51조의4 및 제52조에 따른 공제(이하 “종합소득공제”라 한다)를 적용한 금액으로 한다.<개정 2013. 1. 1., 2014. 1. 1.>\\n\\n③ 다음 각 호에 따른 소득의 금액은 종합소득과세표준을 계산할 때 합산하지 아니한다.<개정 2010. 12. 27., 2011. 7. 14., 2013. 1. 1., 2014. 12. 23., 2015. 12. 15., 2017. 12. 19., 2018. 12. 31., 2019. 12. 31., 2020. 12. 29., 2023. 12. 31.>\\n\\n1. 「조세특례제한법」 또는 이 법 제12조에 따라 과세되지 아니하는 소득\\n\\n2. 대통령령으로 정하는 일용근로자(이하 “일용근로자”라 한다)의 근로소득\\n\\n3. 제129조제2항의 세율에 따라 원천징수하는 이자소득 및 배당소득과 제16조제1항제10호에 따른 직장공제회 초과반환금'),\n",
       " Document(id='30d40b2d-fe57-4524-829b-e37a54d3c88b', metadata={'source': 'tax-markdown.docx'}, page_content='2) 대학의 교직원 또는 대학과 고용관계가 있는 학생이 소속 대학에 설치된 「산업교육진흥 및 산학연협력촉진에 관한 법률」 제25조에 따른 산학협력단(이하 이 조에서 “산학협력단”이라 한다)으로부터 같은 법 제32조제1항제4호에 따라 받는 보상금\\n\\n저. 대통령령으로 정하는 복리후생적 성질의 급여\\n\\n처. 제20조제1항제6호에 따른 소득 중 다음의 요건을 모두 충족하는 소득으로서 대통령령으로 정하는 금액 이하의 금액\\n\\n1) 임원 또는 종업원(이하 이 조, 제20조 및 제164조의5에서 “임원등”이라 한다) 본인이 소비하는 것을 목적으로 제공받거나 지원을 받아 구입한 재화 또는 용역으로서 대통령령으로 정하는 기간 동안 재판매가 허용되지 아니할 것\\n\\n2) 해당 재화 또는 용역의 제공과 관련하여 모든 임원등에게 공통으로 적용되는 기준이 있을 것\\n\\n4. 연금소득 중 다음 각 목의 어느 하나에 해당하는 소득\\n\\n가. 「국민연금법」, 「공무원연금법」 또는 「공무원 재해보상법」, 「군인연금법」 또는 「군인 재해보상법」, 「사립학교교직원 연금법」, 「별정우체국법」 또는 「국민연금과 직역연금의 연계에 관한 법률」(이하 “공적연금 관련법”이라 한다)에 따라 받는 유족연금ㆍ퇴직유족연금ㆍ퇴역유족연금ㆍ장해유족연금ㆍ상이유족연금ㆍ순직유족연금ㆍ직무상유족연금ㆍ위험직무순직유족연금, 장애연금, 장해연금ㆍ비공무상 장해연금ㆍ비직무상 장해연금, 상이연금(傷痍年金), 연계노령유족연금 또는 연계퇴직유족연금\\n\\n나. 삭제<2013. 1. 1.>\\n\\n다. 「산업재해보상보험법」에 따라 받는 각종 연금\\n\\n라. 「국군포로의 송환 및 대우 등에 관한 법률」에 따른 국군포로가 받는 연금\\n\\n마. 삭제<2013. 1. 1.>\\n\\n5. 기타소득 중 다음 각 목의 어느 하나에 해당하는 소득\\n\\n가. 「국가유공자 등 예우 및 지원에 관한 법률」 또는 「보훈보상대상자 지원에 관한 법률」에 따라 받는 보훈급여금ㆍ학습보조비 및 「북한이탈주민의 보호 및 정착지원에 관한 법률」에 따라 받는 정착금ㆍ보로금(報勞金)과 그 밖의 금품\\n\\n나. 「국가보안법」에 따라 받는 상금과 보로금\\n\\n다. 「상훈법」에 따른 훈장과 관련하여 받는 부상(副賞)이나 그 밖에 대통령령으로 정하는 상금과 부상\\n\\n라. 종업원등 또는 대학의 교직원이 퇴직한 후에 사용자등 또는 산학협력단으로부터 지급받거나 대학의 학생이 소속 대학에 설치된 산학협력단으로부터 받는 직무발명보상금으로서 대통령령으로 정하는 금액. 다만, 직무발명보상금을 지급한 사용자등 또는 산학협력단과 대통령령으로 정하는 특수관계에 있는 자가 받는 직무발명보상금은 제외한다.\\n\\n마. 「국군포로의 송환 및 대우 등에 관한 법률」에 따라 국군포로가 받는 위로지원금과 그 밖의 금품\\n\\n바. 「문화유산의 보존 및 활용에 관한 법률」에 따라 국가지정문화유산으로 지정된 서화ㆍ골동품의 양도로 발생하는 소득\\n\\n사. 서화ㆍ골동품을 박물관 또는 미술관에 양도함으로써 발생하는 소득\\n\\n아. 제21조제1항제26호에 따른 종교인소득 중 다음의 어느 하나에 해당하는 소득')]"
      ]
     },
     "execution_count": 9,
     "metadata": {},
     "output_type": "execute_result"
    }
   ],
   "source": [
    "retrieved_docs"
   ]
  },
  {
   "cell_type": "code",
   "execution_count": 10,
   "id": "da01b4b4",
   "metadata": {},
   "outputs": [],
   "source": [
    "from langchain_openai import ChatOpenAI\n",
    "\n",
    "llm = ChatOpenAI(model = 'gpt-4o-mini', temperature = 0)"
   ]
  },
  {
   "cell_type": "code",
   "execution_count": 11,
   "id": "d9ad33e7",
   "metadata": {},
   "outputs": [],
   "source": [
    "prompt = f\"\"\"[Identity]\n",
    "- 당신은 최고의 한국 소득세 전문가입니다.\n",
    "- [context]를 참고해서 사용자의 질문에 답변해주세요.\n",
    "\n",
    "[context]\n",
    "{retrieved_docs}\n",
    "\n",
    "Question: {query}\n",
    "\n",
    "\"\"\""
   ]
  },
  {
   "cell_type": "code",
   "execution_count": 12,
   "id": "fbfd1894",
   "metadata": {},
   "outputs": [],
   "source": [
    "ai_message = llm.invoke(prompt)"
   ]
  },
  {
   "cell_type": "code",
   "execution_count": 13,
   "id": "165f03cc",
   "metadata": {},
   "outputs": [
    {
     "data": {
      "text/plain": [
       "'연봉 5,000만원의 직장인이 납부해야 할 소득세를 계산하기 위해서는 소득세율을 적용해야 합니다. 아래는 5,000만원에 해당하는 소득세 계산 과정입니다.\\n\\n1. **종합소득 과세표준**: 5,000만원\\n2. **세율 적용**:\\n   - 1,400만원 이하: 1,400만원 × 6% = 84만원\\n   - 1,400만원 초과 ~ 5,000만원 이하: (5,000만원 - 1,400만원) × 15% = 3,600만원 × 15% = 540만원\\n\\n3. **총 소득세**:\\n   - 84만원 + 540만원 = 624만원\\n\\n따라서, 연봉 5,000만원의 직장인은 약 624만원의 소득세를 납부해야 합니다.'"
      ]
     },
     "execution_count": 13,
     "metadata": {},
     "output_type": "execute_result"
    }
   ],
   "source": [
    "ai_message.content"
   ]
  },
  {
   "cell_type": "markdown",
   "id": "4075477d",
   "metadata": {},
   "source": [
    "'연봉 5,000만원의 직장인이 납부해야 할 소득세를 계산해보겠습니다. 소득세는 종합소득 과세표준에 따라 세율이 적용됩니다.\\n\\n1. **연봉 5,000만원의 경우**:\\n   - 5,000만원은 **1,400만원 초과 ~ 5,000만원 이하** 구간에 해당합니다.\\n   - 이 구간의 세율은 다음과 같습니다:\\n     - 1,400만원 이하: 과세표준 × 6%\\n     - 1,400만원 초과 ~ 5,000만원 이하: 84만원 + (1,400만원 초과분 × 15%)\\n\\n2. **계산**:\\n   - 5,000만원에서 1,400만원을 빼면 3,600만원이 남습니다.\\n   - 따라서, 세액은 다음과 같이 계산됩니다:\\n     - 기본 세액: 84만원\\n     - 추가 세액: 3,600만원 × 15% = 540만원\\n\\n3. **총 소득세**:\\n   - 총 소득세 = 기본 세액 + 추가 세액\\n   - 총 소득세 = 84만원 + 540만원 = 624만원\\n\\n따라서, 연봉 5,000만원의 직장인은 약 **624만원**의 소득세를 납부해야 합니다.'"
   ]
  },
  {
   "cell_type": "markdown",
   "id": "709e9a30",
   "metadata": {},
   "source": [
    "## RetrievalQA Chain"
   ]
  },
  {
   "cell_type": "code",
   "execution_count": 43,
   "id": "5b21fdab",
   "metadata": {},
   "outputs": [
    {
     "name": "stdout",
     "output_type": "stream",
     "text": [
      "Note: you may need to restart the kernel to use updated packages.\n"
     ]
    }
   ],
   "source": [
    "%pip install -U langchain langchainhub --quiet"
   ]
  },
  {
   "cell_type": "code",
   "execution_count": 15,
   "id": "7a0e2438",
   "metadata": {},
   "outputs": [],
   "source": [
    "from langchain import hub\n",
    "\n",
    "prompt = hub.pull(\"rlm/rag-prompt\")"
   ]
  },
  {
   "cell_type": "code",
   "execution_count": 45,
   "id": "6e1316e7",
   "metadata": {},
   "outputs": [
    {
     "data": {
      "text/plain": [
       "ChatPromptTemplate(input_variables=['context', 'question'], input_types={}, partial_variables={}, metadata={'lc_hub_owner': 'rlm', 'lc_hub_repo': 'rag-prompt', 'lc_hub_commit_hash': '50442af133e61576e74536c6556cefe1fac147cad032f4377b60c436e6cdcb6e'}, messages=[HumanMessagePromptTemplate(prompt=PromptTemplate(input_variables=['context', 'question'], input_types={}, partial_variables={}, template=\"You are an assistant for question-answering tasks. Use the following pieces of retrieved context to answer the question. If you don't know the answer, just say that you don't know. Use three sentences maximum and keep the answer concise.\\nQuestion: {question} \\nContext: {context} \\nAnswer:\"), additional_kwargs={})])"
      ]
     },
     "execution_count": 45,
     "metadata": {},
     "output_type": "execute_result"
    }
   ],
   "source": [
    "prompt"
   ]
  },
  {
   "cell_type": "code",
   "execution_count": 16,
   "id": "81b1588c",
   "metadata": {},
   "outputs": [],
   "source": [
    "## RetrievalQA Chain을 어떻게 사용하는지 알아보자.\n",
    "from langchain.chains import RetrievalQA\n",
    "\n",
    "qa_chain = RetrievalQA.from_chain_type(\n",
    "    llm,\n",
    "    retriever = database.as_retriever(),\n",
    "    chain_type_kwargs = {\"prompt\":prompt}\n",
    "    \n",
    ")\n",
    "\n",
    "# query -> 직장인 -> 거주자로 바꾸는 chain을 추가\n",
    "from langchain_core.output_parsers import StrOutputParser\n",
    "from langchain_core.prompts import ChatPromptTemplate\n",
    "\n",
    "dictionary = [\"사람을 나타내는 표현 -> 거주자\"]\n",
    "\n",
    "prompt = ChatPromptTemplate.from_template(f\"\"\"\n",
    "                사용자의 질문을 보고, 우리의 사전을 참고해서 사용자의 질문을 변경해주세요.\n",
    "                만약 변경할 필요가 없다고 판단된다면, 사용자의 질문을 변경하지 않아도 됩니다.\n",
    "                사전 : {dictionary}\n",
    "                질문 : {{question}}\n",
    "                \"\"\")\n",
    "\n",
    "dictionary_chain = prompt | llm | StrOutputParser() "
   ]
  },
  {
   "cell_type": "code",
   "execution_count": 17,
   "id": "9c4c3250",
   "metadata": {},
   "outputs": [],
   "source": [
    "tax_chain = {\"query\":dictionary_chain} | qa_chain"
   ]
  },
  {
   "cell_type": "code",
   "execution_count": 18,
   "id": "a5d3bd0c",
   "metadata": {},
   "outputs": [],
   "source": [
    "ai_response = tax_chain.invoke({\"question\":query})"
   ]
  },
  {
   "cell_type": "code",
   "execution_count": 19,
   "id": "533f1c30",
   "metadata": {},
   "outputs": [
    {
     "data": {
      "text/plain": [
       "{'query': '연봉 5000만원의 거주자는 소득세가 얼마인가요?',\n",
       " 'result': '연봉 5000만원의 거주자는 소득세로 84만원 + (1,400만원 초과분 × 15%)를 납부해야 합니다. 즉, 84만원 + (3,600만원 × 15%) = 84만원 + 540만원 = 624만원이 됩니다. 따라서 총 소득세는 624만원입니다.'}"
      ]
     },
     "execution_count": 19,
     "metadata": {},
     "output_type": "execute_result"
    }
   ],
   "source": [
    "ai_response"
   ]
  },
  {
   "cell_type": "code",
   "execution_count": 20,
   "id": "7725725b",
   "metadata": {},
   "outputs": [
    {
     "name": "stderr",
     "output_type": "stream",
     "text": [
      "/var/folders/7z/w98360257114dm09jq3nwdq40000gn/T/ipykernel_27957/980961933.py:1: LangChainDeprecationWarning: The method `Chain.__call__` was deprecated in langchain 0.1.0 and will be removed in 1.0. Use :meth:`~invoke` instead.\n",
      "  ai_message = qa_chain({\"query\":query})\n"
     ]
    }
   ],
   "source": [
    "ai_message = qa_chain({\"query\":query})"
   ]
  },
  {
   "cell_type": "code",
   "execution_count": 21,
   "id": "5db0fd68",
   "metadata": {},
   "outputs": [
    {
     "data": {
      "text/plain": [
       "{'query': '연봉 5000만원의 직장인은 소득세가 얼마인가요?',\n",
       " 'result': '연봉 5000만원의 직장인은 소득세로 약 84만원 + (5000만원 초과분 × 15%)를 납부해야 합니다. 5000만원을 초과하지 않으므로, 소득세는 84만원입니다. 따라서, 연봉 5000만원의 직장인은 소득세로 약 84만원을 납부하게 됩니다.'}"
      ]
     },
     "execution_count": 21,
     "metadata": {},
     "output_type": "execute_result"
    }
   ],
   "source": [
    "ai_message"
   ]
  },
  {
   "cell_type": "code",
   "execution_count": null,
   "id": "892bf97b",
   "metadata": {},
   "outputs": [],
   "source": []
  }
 ],
 "metadata": {
  "kernelspec": {
   "display_name": "langchain_rag-env",
   "language": "python",
   "name": "python3"
  },
  "language_info": {
   "codemirror_mode": {
    "name": "ipython",
    "version": 3
   },
   "file_extension": ".py",
   "mimetype": "text/x-python",
   "name": "python",
   "nbconvert_exporter": "python",
   "pygments_lexer": "ipython3",
   "version": "3.11.13"
  }
 },
 "nbformat": 4,
 "nbformat_minor": 5
}
