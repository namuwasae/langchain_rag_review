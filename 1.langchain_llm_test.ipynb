{
 "cells": [
  {
   "cell_type": "code",
   "execution_count": null,
   "id": "7655ad9e",
   "metadata": {},
   "outputs": [
    {
     "data": {
      "text/plain": [
       "True"
      ]
     },
     "execution_count": 1,
     "metadata": {},
     "output_type": "execute_result"
    }
   ],
   "source": [
    "# 환경변수 불러오기\n",
    "from dotenv import load_dotenv\n",
    "load_dotenv()\n"
   ]
  },
  {
   "cell_type": "code",
   "execution_count": 3,
   "id": "6392581c",
   "metadata": {},
   "outputs": [],
   "source": [
    "# Langchain\n",
    "from langchain_openai import ChatOpenAI\n",
    "llm = ChatOpenAI()"
   ]
  },
  {
   "cell_type": "code",
   "execution_count": null,
   "id": "707738f2",
   "metadata": {},
   "outputs": [
    {
     "data": {
      "text/plain": [
       "AIMessage(content='칸트(Immanuel Kant)는 독일의 철학자로, 18세기 후반에서 19세기 초반에 활동했습니다. 그는 형이상학, 윤리학, 정치철학, 미학 등 다양한 분야에서 중요한 이론을 제시하였습니다. 칸트는 \"순수이성의 비판\"과 \"실천이성의 비판\"이라는 주요 저서를 통해 그의 철학을 세계에 알렸습니다. 그의 영향력 있는 이론 중 하나는 \"칸트의 범주\"로서, 사물을 인식하기 위해 우리가 어떤 사상을 사용하는지에 대한 이론입니다. 그의 철학은 현대 철학과 논쟁의 중심 주제로 삼기도 합니다.', additional_kwargs={'refusal': None}, response_metadata={'token_usage': {'completion_tokens': 249, 'prompt_tokens': 23, 'total_tokens': 272, 'completion_tokens_details': {'accepted_prediction_tokens': 0, 'audio_tokens': 0, 'reasoning_tokens': 0, 'rejected_prediction_tokens': 0}, 'prompt_tokens_details': {'audio_tokens': 0, 'cached_tokens': 0}}, 'model_name': 'gpt-3.5-turbo-0125', 'system_fingerprint': None, 'id': 'chatcmpl-CIWGxvRMwukMLFPXzaYUUktcxbpKb', 'service_tier': 'default', 'finish_reason': 'stop', 'logprobs': None}, id='run--c72606e6-e716-499e-b0cd-dcd0b712dad4-0', usage_metadata={'input_tokens': 23, 'output_tokens': 249, 'total_tokens': 272, 'input_token_details': {'audio': 0, 'cache_read': 0}, 'output_token_details': {'audio': 0, 'reasoning': 0}})"
      ]
     },
     "execution_count": 4,
     "metadata": {},
     "output_type": "execute_result"
    }
   ],
   "source": [
    "llm.invoke(\"칸트는 어떤 사람인가요?\")"
   ]
  },
  {
   "cell_type": "code",
   "execution_count": null,
   "id": "06bb8a9f",
   "metadata": {},
   "outputs": [],
   "source": [
    "ai_message = llm.invoke(\"칸트는 어떤 사람인가요?\")"
   ]
  },
  {
   "cell_type": "code",
   "execution_count": null,
   "id": "154bfa6a",
   "metadata": {},
   "outputs": [],
   "source": [
    "ai_message.content"
   ]
  },
  {
   "cell_type": "code",
   "execution_count": null,
   "id": "ea5a9fc8",
   "metadata": {},
   "outputs": [],
   "source": []
  }
 ],
 "metadata": {
  "kernelspec": {
   "display_name": "langchain_rag-env",
   "language": "python",
   "name": "python3"
  },
  "language_info": {
   "codemirror_mode": {
    "name": "ipython",
    "version": 3
   },
   "file_extension": ".py",
   "mimetype": "text/x-python",
   "name": "python",
   "nbconvert_exporter": "python",
   "pygments_lexer": "ipython3",
   "version": "3.11.13"
  }
 },
 "nbformat": 4,
 "nbformat_minor": 5
}
