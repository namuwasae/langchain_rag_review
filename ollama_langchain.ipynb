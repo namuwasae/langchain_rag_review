{
 "cells": [
  {
   "cell_type": "code",
   "execution_count": null,
   "id": "1b8446d4",
   "metadata": {},
   "outputs": [],
   "source": [
    "# %python -m pip install langchain-community"
   ]
  },
  {
   "cell_type": "code",
   "execution_count": 3,
   "id": "18e14edf",
   "metadata": {},
   "outputs": [
    {
     "name": "stdout",
     "output_type": "stream",
     "text": [
      "Collecting langchain_ollama\n",
      "  Downloading langchain_ollama-0.3.8-py3-none-any.whl.metadata (2.1 kB)\n",
      "Collecting ollama<1.0.0,>=0.5.3 (from langchain_ollama)\n",
      "  Downloading ollama-0.5.4-py3-none-any.whl.metadata (4.3 kB)\n",
      "Requirement already satisfied: langchain-core<1.0.0,>=0.3.76 in /opt/miniconda3/envs/langchain_rag-env/lib/python3.11/site-packages (from langchain_ollama) (0.3.76)\n",
      "Requirement already satisfied: langsmith>=0.3.45 in /opt/miniconda3/envs/langchain_rag-env/lib/python3.11/site-packages (from langchain-core<1.0.0,>=0.3.76->langchain_ollama) (0.4.29)\n",
      "Requirement already satisfied: tenacity!=8.4.0,<10.0.0,>=8.1.0 in /opt/miniconda3/envs/langchain_rag-env/lib/python3.11/site-packages (from langchain-core<1.0.0,>=0.3.76->langchain_ollama) (9.1.2)\n",
      "Requirement already satisfied: jsonpatch<2.0,>=1.33 in /opt/miniconda3/envs/langchain_rag-env/lib/python3.11/site-packages (from langchain-core<1.0.0,>=0.3.76->langchain_ollama) (1.33)\n",
      "Requirement already satisfied: PyYAML>=5.3 in /opt/miniconda3/envs/langchain_rag-env/lib/python3.11/site-packages (from langchain-core<1.0.0,>=0.3.76->langchain_ollama) (6.0.2)\n",
      "Requirement already satisfied: typing-extensions>=4.7 in /opt/miniconda3/envs/langchain_rag-env/lib/python3.11/site-packages (from langchain-core<1.0.0,>=0.3.76->langchain_ollama) (4.15.0)\n",
      "Requirement already satisfied: packaging>=23.2 in /opt/miniconda3/envs/langchain_rag-env/lib/python3.11/site-packages (from langchain-core<1.0.0,>=0.3.76->langchain_ollama) (25.0)\n",
      "Requirement already satisfied: pydantic>=2.7.4 in /opt/miniconda3/envs/langchain_rag-env/lib/python3.11/site-packages (from langchain-core<1.0.0,>=0.3.76->langchain_ollama) (2.11.9)\n",
      "Requirement already satisfied: jsonpointer>=1.9 in /opt/miniconda3/envs/langchain_rag-env/lib/python3.11/site-packages (from jsonpatch<2.0,>=1.33->langchain-core<1.0.0,>=0.3.76->langchain_ollama) (3.0.0)\n",
      "Requirement already satisfied: httpx>=0.27 in /opt/miniconda3/envs/langchain_rag-env/lib/python3.11/site-packages (from ollama<1.0.0,>=0.5.3->langchain_ollama) (0.28.1)\n",
      "Requirement already satisfied: anyio in /opt/miniconda3/envs/langchain_rag-env/lib/python3.11/site-packages (from httpx>=0.27->ollama<1.0.0,>=0.5.3->langchain_ollama) (4.10.0)\n",
      "Requirement already satisfied: certifi in /opt/miniconda3/envs/langchain_rag-env/lib/python3.11/site-packages (from httpx>=0.27->ollama<1.0.0,>=0.5.3->langchain_ollama) (2025.8.3)\n",
      "Requirement already satisfied: httpcore==1.* in /opt/miniconda3/envs/langchain_rag-env/lib/python3.11/site-packages (from httpx>=0.27->ollama<1.0.0,>=0.5.3->langchain_ollama) (1.0.9)\n",
      "Requirement already satisfied: idna in /opt/miniconda3/envs/langchain_rag-env/lib/python3.11/site-packages (from httpx>=0.27->ollama<1.0.0,>=0.5.3->langchain_ollama) (3.10)\n",
      "Requirement already satisfied: h11>=0.16 in /opt/miniconda3/envs/langchain_rag-env/lib/python3.11/site-packages (from httpcore==1.*->httpx>=0.27->ollama<1.0.0,>=0.5.3->langchain_ollama) (0.16.0)\n",
      "Requirement already satisfied: orjson>=3.9.14 in /opt/miniconda3/envs/langchain_rag-env/lib/python3.11/site-packages (from langsmith>=0.3.45->langchain-core<1.0.0,>=0.3.76->langchain_ollama) (3.11.3)\n",
      "Requirement already satisfied: requests-toolbelt>=1.0.0 in /opt/miniconda3/envs/langchain_rag-env/lib/python3.11/site-packages (from langsmith>=0.3.45->langchain-core<1.0.0,>=0.3.76->langchain_ollama) (1.0.0)\n",
      "Requirement already satisfied: requests>=2.0.0 in /opt/miniconda3/envs/langchain_rag-env/lib/python3.11/site-packages (from langsmith>=0.3.45->langchain-core<1.0.0,>=0.3.76->langchain_ollama) (2.32.5)\n",
      "Requirement already satisfied: zstandard>=0.23.0 in /opt/miniconda3/envs/langchain_rag-env/lib/python3.11/site-packages (from langsmith>=0.3.45->langchain-core<1.0.0,>=0.3.76->langchain_ollama) (0.25.0)\n",
      "Requirement already satisfied: annotated-types>=0.6.0 in /opt/miniconda3/envs/langchain_rag-env/lib/python3.11/site-packages (from pydantic>=2.7.4->langchain-core<1.0.0,>=0.3.76->langchain_ollama) (0.7.0)\n",
      "Requirement already satisfied: pydantic-core==2.33.2 in /opt/miniconda3/envs/langchain_rag-env/lib/python3.11/site-packages (from pydantic>=2.7.4->langchain-core<1.0.0,>=0.3.76->langchain_ollama) (2.33.2)\n",
      "Requirement already satisfied: typing-inspection>=0.4.0 in /opt/miniconda3/envs/langchain_rag-env/lib/python3.11/site-packages (from pydantic>=2.7.4->langchain-core<1.0.0,>=0.3.76->langchain_ollama) (0.4.1)\n",
      "Requirement already satisfied: charset_normalizer<4,>=2 in /opt/miniconda3/envs/langchain_rag-env/lib/python3.11/site-packages (from requests>=2.0.0->langsmith>=0.3.45->langchain-core<1.0.0,>=0.3.76->langchain_ollama) (3.4.3)\n",
      "Requirement already satisfied: urllib3<3,>=1.21.1 in /opt/miniconda3/envs/langchain_rag-env/lib/python3.11/site-packages (from requests>=2.0.0->langsmith>=0.3.45->langchain-core<1.0.0,>=0.3.76->langchain_ollama) (2.5.0)\n",
      "Requirement already satisfied: sniffio>=1.1 in /opt/miniconda3/envs/langchain_rag-env/lib/python3.11/site-packages (from anyio->httpx>=0.27->ollama<1.0.0,>=0.5.3->langchain_ollama) (1.3.1)\n",
      "Downloading langchain_ollama-0.3.8-py3-none-any.whl (25 kB)\n",
      "Downloading ollama-0.5.4-py3-none-any.whl (13 kB)\n",
      "Installing collected packages: ollama, langchain_ollama\n",
      "\u001b[2K   \u001b[90m━━━━━━━━━━━━━━━━━━━━━━━━━━━━━━━━━━━━━━━━\u001b[0m \u001b[32m2/2\u001b[0m [langchain_ollama]\n",
      "\u001b[1A\u001b[2KSuccessfully installed langchain_ollama-0.3.8 ollama-0.5.4\n",
      "Note: you may need to restart the kernel to use updated packages.\n"
     ]
    }
   ],
   "source": [
    "%pip install langchain_ollama"
   ]
  },
  {
   "cell_type": "code",
   "execution_count": 10,
   "id": "dcf0ea1b",
   "metadata": {},
   "outputs": [],
   "source": [
    "# ChatOllama를 활용한 답변 생성\n",
    "from langchain_ollama import ChatOllama\n",
    "\n",
    "llm = ChatOllama(\n",
    "    model=\"llama3\",\n",
    "    temperature=0,\n",
    "    # other params...\n",
    ")"
   ]
  },
  {
   "cell_type": "code",
   "execution_count": 11,
   "id": "75e2504b",
   "metadata": {},
   "outputs": [
    {
     "data": {
      "text/plain": [
       "AIMessage(content=\"Immanuel Kant (1724-1804) was a German philosopher who is considered one of the most important figures in the history of philosophy. He made significant contributions to various fields, including ethics, metaphysics, epistemology, and aesthetics.\\n\\nKant was born in Königsberg, Prussia (now Kaliningrad, Russia), and spent most of his life there. He was a professor at the University of Königsberg for over 30 years and wrote extensively on various topics.\\n\\nKant's philosophical ideas had a profound impact on Western philosophy, particularly in the areas of:\\n\\n1. Ethics: Kant developed a moral philosophy that emphasized the importance of treating others as ends in themselves, rather than means to an end. He argued that morality is based on reason, not emotions or desires.\\n2. Metaphysics: Kant's Critique of Pure Reason (1781) challenged traditional notions of metaphysics and introduced the concept of transcendental idealism. He argued that our understanding of reality is shaped by our cognitive faculties, rather than being a direct reflection of an objective world.\\n3. Epistemology: Kant's work on epistemology focused on the nature of knowledge and how it relates to human experience. He developed the concept of synthetic a priori judgments, which are statements that can be known to be true independently of empirical evidence.\\n\\nSome key concepts in Kant's philosophy include:\\n\\n* The categorical imperative: A moral principle that requires us to act only according to maxims that could be willed as universal laws.\\n* The noumenon: An object or reality that exists independently of our perception of it, which is distinct from the phenomenon (the way we experience it).\\n* The transcendental unity of apperception: The idea that our experiences are unified by a single, underlying consciousness.\\n\\nKant's influence can be seen in many areas of philosophy, including:\\n\\n1. Ethics: His moral philosophy has shaped the development of ethics and continues to influence contemporary debates.\\n2. Metaphysics: Kant's ideas about the nature of reality have had a lasting impact on metaphysical discussions.\\n3. Epistemology: His work on knowledge and perception has influenced epistemological theories and continues to shape our understanding of human experience.\\n\\nOverall, Immanuel Kant was a groundbreaking philosopher who made significant contributions to various fields, leaving a lasting legacy in the world of philosophy.\", additional_kwargs={}, response_metadata={'model': 'llama3', 'created_at': '2025-09-22T10:33:10.832844Z', 'done': True, 'done_reason': 'stop', 'total_duration': 24780754792, 'load_duration': 12896957042, 'prompt_eval_count': 31, 'prompt_eval_duration': 716312000, 'eval_count': 481, 'eval_duration': 11166497334, 'model_name': 'llama3'}, id='run--2e1ae659-03ed-4390-8ddc-b15ad711e131-0', usage_metadata={'input_tokens': 31, 'output_tokens': 481, 'total_tokens': 512})"
      ]
     },
     "execution_count": 11,
     "metadata": {},
     "output_type": "execute_result"
    }
   ],
   "source": [
    "messages = [\n",
    "    (\n",
    "        \"system\",\n",
    "        \"You are a helpful assistant that teach about kant.\",\n",
    "    ),\n",
    "    (\"human\", \"Who is kant?\"),\n",
    "]\n",
    "ai_msg = llm.invoke(messages)\n",
    "ai_msg"
   ]
  },
  {
   "cell_type": "code",
   "execution_count": null,
   "id": "6dee150b",
   "metadata": {},
   "outputs": [],
   "source": []
  }
 ],
 "metadata": {
  "kernelspec": {
   "display_name": "langchain_rag-env",
   "language": "python",
   "name": "python3"
  },
  "language_info": {
   "codemirror_mode": {
    "name": "ipython",
    "version": 3
   },
   "file_extension": ".py",
   "mimetype": "text/x-python",
   "name": "python",
   "nbconvert_exporter": "python",
   "pygments_lexer": "ipython3",
   "version": "3.11.13"
  }
 },
 "nbformat": 4,
 "nbformat_minor": 5
}
